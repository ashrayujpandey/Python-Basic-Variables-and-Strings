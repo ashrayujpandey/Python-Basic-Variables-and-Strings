{
 "cells": [
  {
   "cell_type": "markdown",
   "id": "4549f75b-599c-47c4-92bd-624f37971d48",
   "metadata": {},
   "source": [
    "# Assignment"
   ]
  },
  {
   "cell_type": "markdown",
   "id": "495eef2b-a354-4d97-8ec2-49c305f3ca0a",
   "metadata": {},
   "source": [
    "## TOPIC: Python Basics Variable"
   ]
  },
  {
   "cell_type": "markdown",
   "id": "961cd8f0-503b-40c5-9b91-f5296c5c7390",
   "metadata": {},
   "source": [
    "#### 1-Declare two variables, `x` and `y`, and assign them integer values. Swap the values of these variables without using any temporary variable.\n",
    "\n"
   ]
  },
  {
   "cell_type": "code",
   "execution_count": 1,
   "id": "1b5cf27a-8474-4706-9d22-b385e00f8a21",
   "metadata": {},
   "outputs": [
    {
     "name": "stdout",
     "output_type": "stream",
     "text": [
      "Original values: x = 10, y = 20\n",
      "Swapped values: x = 20, y = 10\n"
     ]
    }
   ],
   "source": [
    "# Initial values\n",
    "x = 10\n",
    "y = 20\n",
    "\n",
    "# Display original values\n",
    "print(f\"Original values: x = {x}, y = {y}\")\n",
    "\n",
    "# Swapping without a temporary variable\n",
    "x = x + y\n",
    "y = x - y\n",
    "x = x - y\n",
    "\n",
    "# Display swapped valu\n",
    "print(f\"Swapped values: x = {x}, y = {y}\")\n",
    "# note- 'f' is part of an f-string (formatted string literal) in Python."
   ]
  },
  {
   "cell_type": "markdown",
   "id": "1b6acf9a-440c-4224-a6d5-434a5233905a",
   "metadata": {},
   "source": [
    "#### 2-Create a program that calculates the area of a rectangle. Take the length and width as inputs from the user and store them in variables. Calculate and display the area.\n",
    "\n"
   ]
  },
  {
   "cell_type": "code",
   "execution_count": 2,
   "id": "27e962f2-a2a4-4bc6-a010-c14e638ef217",
   "metadata": {},
   "outputs": [
    {
     "name": "stdin",
     "output_type": "stream",
     "text": [
      "Enter the length of the rectangle:  4\n",
      "Enter the width of the rectangle:  5\n"
     ]
    },
    {
     "name": "stdout",
     "output_type": "stream",
     "text": [
      "The area of the rectangle with length 4.0 and width 5.0 is 20.0.\n"
     ]
    }
   ],
   "source": [
    "#code\n",
    "\n",
    "length = float(input(\"Enter the length of the rectangle: \"))\n",
    "width = float(input(\"Enter the width of the rectangle: \"))\n",
    "\n",
    "# Calculate the area of the rectangle\n",
    "area = length * width\n",
    "\n",
    "# Display the result\n",
    "print(f\"The area of the rectangle with length {length} and width {width} is {area}.\")\n"
   ]
  },
  {
   "cell_type": "markdown",
   "id": "dd155bba-14b0-4ecd-9590-443b5e89ee33",
   "metadata": {},
   "source": [
    "#### 3-Write a Python program that converts temperatures from Celsius to  Fahrenheit. Take the temperature in Celsius as input, store it in a variable, convert it to Fahrenheit, and display the result.\n",
    " \n"
   ]
  },
  {
   "cell_type": "code",
   "execution_count": 3,
   "id": "7df7c8a5-fd59-4331-a983-ae5c073982aa",
   "metadata": {},
   "outputs": [
    {
     "name": "stdin",
     "output_type": "stream",
     "text": [
      "Enter the temperature in Celsius:  430\n"
     ]
    },
    {
     "name": "stdout",
     "output_type": "stream",
     "text": [
      "The temperature in Fahrenheit is 806.00.\n"
     ]
    }
   ],
   "source": [
    "# Take user input as a temperature\n",
    "celsius = float(input(\"Enter the temperature in Celsius: \"))\n",
    "\n",
    "# Convert Celsius to Fahrenheit using the formula: (Celsius * 9/5) + 32\n",
    "fahrenheit = (celsius * 9/5) + 32\n",
    "\n",
    "# Display the result\n",
    "print(f\"The temperature in Fahrenheit is {fahrenheit:.2f}.\")\n"
   ]
  },
  {
   "cell_type": "markdown",
   "id": "d8cee8eb-9d07-4786-80a0-bc2f8b5a0f81",
   "metadata": {},
   "source": [
    "## TOPIC: String Based Questions"
   ]
  },
  {
   "cell_type": "markdown",
   "id": "32b8eb92-76b0-49e5-afd1-9c98434b5e25",
   "metadata": {},
   "source": [
    "#### 1-. Write a Python program that takes a string as input and prints the length of the string.\n",
    "\n"
   ]
  },
  {
   "cell_type": "code",
   "execution_count": 4,
   "id": "2429a0bc-6683-4ef4-82c4-da7f189d74f1",
   "metadata": {},
   "outputs": [
    {
     "name": "stdout",
     "output_type": "stream",
     "text": [
      "Before swapping:\n",
      "x = 5\n",
      "y = 10\n",
      "After swapping:\n",
      "x = 10\n",
      "y = 5\n"
     ]
    }
   ],
   "source": [
    "# Initialize variables with integer values\n",
    "x = 5\n",
    "y = 10\n",
    "\n",
    "# Display the original values\n",
    "print(\"Before swapping:\")\n",
    "print(\"x =\", x)\n",
    "print(\"y =\", y)\n",
    "\n",
    "# Swap the values \n",
    "x = x + y \n",
    "y = x - y \n",
    "x = x - y \n",
    "\n",
    "# Display the swapped values\n",
    "print(\"After swapping:\")\n",
    "print(\"x =\", x)\n",
    "print(\"y =\", y)\n"
   ]
  },
  {
   "cell_type": "markdown",
   "id": "6d142efa-154c-4050-8443-49c79cf2a613",
   "metadata": {},
   "source": [
    "#### 2- Create a program that takes a sentence from the user and counts the number of vowels (a, e, i, o, u) in the string.\n",
    "\n"
   ]
  },
  {
   "cell_type": "code",
   "execution_count": 5,
   "id": "1e7e1ab3-9c6f-419e-90a3-62877eb5eac7",
   "metadata": {},
   "outputs": [
    {
     "name": "stdin",
     "output_type": "stream",
     "text": [
      "Enter a sentence:  Bullet is faster than bullet train.\n"
     ]
    },
    {
     "name": "stdout",
     "output_type": "stream",
     "text": [
      "The number of vowels in the sentence is 10.\n"
     ]
    }
   ],
   "source": [
    "# Function to count the number of vowels in a given sentence\n",
    "def count_vowels(sentence):\n",
    "    # Define a set of vowels\n",
    "    vowels = set('aeiouAEIOU')\n",
    "    vowel_count = 0\n",
    "    \n",
    "    # Iterate through each character in the sentence\n",
    "    for char in sentence:\n",
    "        # Check if the character is a vowel\n",
    "        if char in vowels:\n",
    "            vowel_count += 1\n",
    "    \n",
    "    return vowel_count\n",
    "\n",
    "# Take the user to enter a sentence\n",
    "user_input = input(\"Enter a sentence: \")\n",
    "\n",
    "# Count the vowels in the user input\n",
    "num_vowels = count_vowels(user_input)\n",
    "\n",
    "# Display the result\n",
    "print(f\"The number of vowels in the sentence is {num_vowels}.\")\n"
   ]
  },
  {
   "cell_type": "markdown",
   "id": "6ce8b1d5-5678-4597-bd1f-4348d1e7fb1c",
   "metadata": {},
   "source": [
    "#### 3-Given a string, reverse the order of characters using string slicing and print the reversed string.\n"
   ]
  },
  {
   "cell_type": "code",
   "execution_count": 6,
   "id": "ee67e964-1dfe-45b0-8214-6cea98f6c31e",
   "metadata": {},
   "outputs": [
    {
     "name": "stdin",
     "output_type": "stream",
     "text": [
      "Enter a string:  strong\n"
     ]
    },
    {
     "name": "stdout",
     "output_type": "stream",
     "text": [
      "The reversed string is: gnorts\n"
     ]
    }
   ],
   "source": [
    "# Function to reverse a string using slicing\n",
    "def reverse_string(input_string):\n",
    "    # Reverse the string using slicing\n",
    "    reversed_string = input_string[::-1]\n",
    "    return reversed_string\n",
    "\n",
    "# Prompt the user to enter a string\n",
    "user_input = input(\"Enter a string: \")\n",
    "\n",
    "# Get the reversed string\n",
    "reversed_result = reverse_string(user_input)\n",
    "\n",
    "# Print the reversed string\n",
    "print(f\"The reversed string is: {reversed_result}\")\n"
   ]
  },
  {
   "cell_type": "markdown",
   "id": "0323f981-86a9-44db-8a26-937893418c8f",
   "metadata": {},
   "source": [
    "#### 4- Write a program that takes a string as input and checks if it is a palindrome (reads the same forwards and backwards).\n",
    "\n"
   ]
  },
  {
   "cell_type": "code",
   "execution_count": 8,
   "id": "fec1b0a6-6751-42e2-a3bc-1c199ca8c800",
   "metadata": {},
   "outputs": [
    {
     "name": "stdin",
     "output_type": "stream",
     "text": [
      "Please enter a string:  centralized\n"
     ]
    },
    {
     "name": "stdout",
     "output_type": "stream",
     "text": [
      "The string is not a palindrome.\n"
     ]
    }
   ],
   "source": [
    "# Function to determine if a string is a palindrome\n",
    "def check_palindrome(s):\n",
    "    processed_string = ''.join(s.split()).lower()\n",
    "    \n",
    "    # Reverse the processed string\n",
    "    reversed_string = processed_string[::-1]\n",
    "    \n",
    "    # Compare the processed string with its reversed version\n",
    "    return processed_string == reversed_string\n",
    "\n",
    "# Ask the user to input a string\n",
    "input_string = input(\"Please enter a string: \")\n",
    "\n",
    "# Check if the string is a palindrome and display the result\n",
    "if check_palindrome(input_string):\n",
    "    print(\"The string is a palindrome.\")\n",
    "else:\n",
    "    print(\"The string is not a palindrome.\")\n"
   ]
  },
  {
   "cell_type": "markdown",
   "id": "ee95d413-7d2c-468c-9e27-29ee70c366fe",
   "metadata": {},
   "source": [
    "#### 5- Create a program that takes a string as input and removes all the spaces from it. Print the modified string without spaces.\n",
    "\n"
   ]
  },
  {
   "cell_type": "code",
   "execution_count": 10,
   "id": "25319c19-7e1d-47c2-9a99-7408c2f08ded",
   "metadata": {},
   "outputs": [
    {
     "name": "stdin",
     "output_type": "stream",
     "text": [
      "Enter a string:  too fan\n"
     ]
    },
    {
     "name": "stdout",
     "output_type": "stream",
     "text": [
      "The string without spaces is: toofan\n"
     ]
    }
   ],
   "source": [
    "# Take the user to enter a string\n",
    "user_input = input(\"Enter a string: \")\n",
    "\n",
    "# Remove all spaces from the string\n",
    "no_space_string = user_input.replace(\" \", \"\")\n",
    "\n",
    "# Print the updated string\n",
    "print(\"The string without spaces is:\", no_space_string)\n"
   ]
  }
 ],
 "metadata": {
  "kernelspec": {
   "display_name": "Python 3 (ipykernel)",
   "language": "python",
   "name": "python3"
  },
  "language_info": {
   "codemirror_mode": {
    "name": "ipython",
    "version": 3
   },
   "file_extension": ".py",
   "mimetype": "text/x-python",
   "name": "python",
   "nbconvert_exporter": "python",
   "pygments_lexer": "ipython3",
   "version": "3.10.5"
  }
 },
 "nbformat": 4,
 "nbformat_minor": 5
}
